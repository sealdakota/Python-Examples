{
 "cells": [
  {
   "cell_type": "code",
   "execution_count": null,
   "metadata": {},
   "outputs": [],
   "source": [
    "#Dakota Seal\n",
    "#calculates the energy levels of an electron in an infinite square well potential.\n",
    "\n",
    "wellWidth = float(input(\"Please enter quantum well width in meters (must be >0, may use scientific notation): \"))\n",
    "\n",
    "#while loop that determines if well width input is 0 or positive.\n",
    "widthPositive = False\n",
    "while widthPositive == False:\n",
    "    if wellWidth <= 0:\n",
    "        print(\"Well width must be positive and non zero\")\n",
    "        wellWidth = float(input(\"Please re-enter well width in meters (must be >0, may use scientific notation): \"))\n",
    "        widthPositive = False\n",
    "    else:\n",
    "        widthPositive = True\n",
    "\n",
    "energyqN = input(\"Please enter energy quantum number (must be > 0 and integer): \")\n",
    "\n",
    "#while loop that determines if energy quantum number is 0 or positive.\n",
    "energyPositive = False\n",
    "while energyPositive == False:\n",
    "    if int(energyqN) <= 0:\n",
    "        print(\"Energy quantum number must be positive and non zero\")\n",
    "        energyqN = input(\"Please re-enter the enery quantum number (must be > 0 and integer): \")\n",
    "        energyPositive = False\n",
    "    else:\n",
    "        energyPositive = True\n",
    "\n",
    "#hbar squared in si units.\n",
    "hbarsq = float(1.1025*10**-68)\n",
    "\n",
    "#electron mass in si units.\n",
    "electronmass = float(1.82*10**-30)\n",
    "\n",
    "#pi squared\n",
    "pisq = float(9.8696)\n",
    "\n",
    "#calculates numerator and denomanator respectivly.\n",
    "num = int(energyqN)*int(energyqN)*hbarsq*pisq\n",
    "den = 2*electronmass*wellWidth*wellWidth\n",
    "\n",
    "#calculates answer aka energy level.\n",
    "answer = num/den\n",
    "\n",
    "print(answer)\n"
   ]
  }
 ],
 "metadata": {
  "kernelspec": {
   "display_name": "Python 3",
   "language": "python",
   "name": "python3"
  },
  "language_info": {
   "codemirror_mode": {
    "name": "ipython",
    "version": 3
   },
   "file_extension": ".py",
   "mimetype": "text/x-python",
   "name": "python",
   "nbconvert_exporter": "python",
   "pygments_lexer": "ipython3",
   "version": "3.7.6"
  }
 },
 "nbformat": 4,
 "nbformat_minor": 4
}
