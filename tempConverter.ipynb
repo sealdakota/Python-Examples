{
 "cells": [
  {
   "cell_type": "code",
   "execution_count": 1,
   "metadata": {},
   "outputs": [
    {
     "name": "stdin",
     "output_type": "stream",
     "text": [
      "input a temperature in farenheit that you would like converted to celsius:  69\n"
     ]
    },
    {
     "name": "stdout",
     "output_type": "stream",
     "text": [
      "20.56\n"
     ]
    }
   ],
   "source": [
    "#Dakota Seal\n",
    "#takes input farenheit temperature and converts it to celsius.\n",
    "\n",
    "fahrenheit = input(\"input a temperature in farenheit that you would like converted to celsius: \")\n",
    "\n",
    "#While loop that checks if temperature is less than or equal to 0 kelvin.\n",
    "belowZero = True\n",
    "while belowZero == True:\n",
    "    if float(fahrenheit) <= float(-459.67):\n",
    "        fahrenheit = input(\"Sorry, but temperatures don't go that low, please enter something more reasonable: \")\n",
    "        belowZero = True\n",
    "    else:\n",
    "        belowZero = False\n",
    "\n",
    "#converts fahrenheit to celsius\n",
    "celsius = (float(fahrenheit)-32) * 5/9\n",
    "\n",
    "print(str(\"%.2f\" % celsius))"
   ]
  },
  {
   "cell_type": "code",
   "execution_count": null,
   "metadata": {},
   "outputs": [],
   "source": []
  }
 ],
 "metadata": {
  "kernelspec": {
   "display_name": "Python 3",
   "language": "python",
   "name": "python3"
  },
  "language_info": {
   "codemirror_mode": {
    "name": "ipython",
    "version": 3
   },
   "file_extension": ".py",
   "mimetype": "text/x-python",
   "name": "python",
   "nbconvert_exporter": "python",
   "pygments_lexer": "ipython3",
   "version": "3.7.6"
  }
 },
 "nbformat": 4,
 "nbformat_minor": 4
}
